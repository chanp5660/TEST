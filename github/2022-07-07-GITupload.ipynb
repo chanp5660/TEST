{
 "cells": [
  {
   "cell_type": "markdown",
   "id": "1d667f70-9afe-4386-bf3d-ebf20f1b73c4",
   "metadata": {},
   "source": [
    "---  \n",
    "layout: post  \n",
    "current: post  \n",
    "cover:  assets/built/images/github-logo.png  \n",
    "navigation: True  \n",
    "title: 깃허브 ipynb 업로드 방법   \n",
    "date: 2022-07-07 02:08:00 +0900  \n",
    "tags: [github]  \n",
    "class: post-template   \n",
    "subclass: 'post tag-python'  \n",
    "author: chanp5660   \n",
    "---  \n",
    "\n",
    "{% include githubblog-table-of-contents.html %}  "
   ]
  },
  {
   "cell_type": "markdown",
   "id": "7a9d8963-15c3-47cf-bc8e-8f6715a636b3",
   "metadata": {},
   "source": [
    "# 깃허브 ipynb 업로드 방법"
   ]
  },
  {
   "cell_type": "markdown",
   "id": "a6c53c53-2688-4d5d-842c-d9a7bc14116f",
   "metadata": {},
   "source": [
    "**가정**\n",
    "- Git 아이디가 생성\n",
    "- 저장소 하나이상 생성\n",
    "- 아나콘다 가상환경 및 jupyter lab, Git 설치"
   ]
  },
  {
   "cell_type": "markdown",
   "id": "018c0c5b-90a5-420a-8d2a-4faa8659d93e",
   "metadata": {
    "tags": []
   },
   "source": [
    "## 1. 깃허브 사이트에서 연동할 주소를 가져오기\n",
    "\n",
    "- 아래 사진에서 HTTPs 버튼 클릭 후 오른쪽에 있는 복사 버튼을 클릭하면 URL이 복사가 됨\n",
    "\n",
    "![image](https://user-images.githubusercontent.com/46266247/177748644-6bfc159a-777c-495d-aa2d-4e31037245f9.png)\n",
    "\n",
    "\n",
    "* 추가 참조 (https://www.lainyzine.com/ko/article/how-to-link-github-remote-repository-and-local-git-repository/)"
   ]
  },
  {
   "cell_type": "markdown",
   "id": "2c15c551-85bc-4a13-bdb7-6cd798534ea9",
   "metadata": {},
   "source": [
    "## 2. 변경하거나 추가하는 방법\n",
    "\n",
    "- 반복된 업데이트 명령어(컴퓨터 -> git) \n",
    "    - 하루 처음 명령어\n",
    "        - init : git init\n",
    "        - branch : git branch -m main\n",
    "    - 계속 반복적으로 작성해주어야 하는 명령어\n",
    "        - add : git add -A\n",
    "        - commit : git commit -m \"저장할 메시지\"\n",
    "        - push : git push origin master\n",
    "- 반복된 업데이트 명령어(git -> 컴퓨터)\n",
    "    - pull : git pull\n",
    "\n",
    "* 추가 참조 (https://www.lainyzine.com/ko/article/how-to-link-github-remote-repository-and-local-git-repository/)"
   ]
  },
  {
   "cell_type": "markdown",
   "id": "099c8ef5-cce8-47a7-bf52-5d62a2d9cd81",
   "metadata": {},
   "source": [
    "## 3. ipynb 을 업로드 하는 방법\n",
    "\n",
    "- 검색해봤지만 기존 파일로 바로 업로드 하는 방법을 찾지 못함\n",
    "- jupyter lab 에서 markdown 파일로 저장 후 _posts 에 저장해서 업로드 함"
   ]
  },
  {
   "cell_type": "markdown",
   "id": "777133ca-475c-4b0b-b4e2-1a30bbfef70d",
   "metadata": {},
   "source": [
    "## 4. 이미지 파일 업로드 \n",
    "\n",
    "- 따로 업로드가 안되기 때문에 git의 issue를 이용하거나 이미지 폴더를 이용해서 연결함"
   ]
  },
  {
   "cell_type": "markdown",
   "id": "fb21e543-6bd9-4b38-96db-82f2cdf100c6",
   "metadata": {},
   "source": [
    "## 5. 카테고리 설정 방법\n",
    "\n",
    "참조(https://ansohxxn.github.io/blog/jekyll-directory-structure/)"
   ]
  },
  {
   "cell_type": "code",
   "execution_count": null,
   "id": "6e5032ee-83aa-4b58-bf6c-386d6cb861e3",
   "metadata": {},
   "outputs": [],
   "source": []
  }
 ],
 "metadata": {
  "kernelspec": {
   "display_name": "Python 3 (ipykernel)",
   "language": "python",
   "name": "python3"
  },
  "language_info": {
   "codemirror_mode": {
    "name": "ipython",
    "version": 3
   },
   "file_extension": ".py",
   "mimetype": "text/x-python",
   "name": "python",
   "nbconvert_exporter": "python",
   "pygments_lexer": "ipython3",
   "version": "3.10.4"
  }
 },
 "nbformat": 4,
 "nbformat_minor": 5
}
