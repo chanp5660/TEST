{
 "cells": [
  {
   "cell_type": "markdown",
   "id": "97fa6fdf-1b31-4289-98f5-bfc4170fd217",
   "metadata": {},
   "source": [
    "---  \n",
    "layout: page  \n",
    "current: about  \n",
    "title: chanp5660.github.io  \n",
    "navigation: true  \n",
    "logo: 'assets/built/images/about_logo.png'  \n",
    "class: page-template  \n",
    "subclass: 'post page'  \n",
    "---"
   ]
  },
  {
   "cell_type": "markdown",
   "id": "2f51ebac-6ce9-4001-b9fb-2ceca7e4c152",
   "metadata": {
    "tags": []
   },
   "source": [
    "# 내 블로그\n",
    "\n",
    "> 내가 공부했던 내용을 정리하는 것을 목표로 한다. 기술 하나하나를 다 기술하기에는 어려움이 있어서 내가 궁금한 것을 분석하는 블로그를 중요하게 생각한다.\n",
    "\n",
    "- 코딩 배우기 \n",
    "    - W3school\n",
    "        - [python](https://www.w3schools.com/python/default.asp)\n",
    "    - 백준\n",
    "        - [단계별](https://www.acmicpc.net/step)\n",
    "    - 코테\n",
    "    - 자연어처리 \n",
    "        - [딥 러닝을 이용한 자연어 처리 입문](https://wikidocs.net/book/2155)\n",
    "\n",
    "- 분석\n",
    "    - 주식 예측\n",
    "\n",
    "\n",
    "# 내 생각\n",
    "\n",
    "- 코딩에서 중요하게 생각하는 부분\n",
    "    1. 가독성\n",
    "        - 내가 오랜만에 보거나 다른사람이 보더라도 쉽게 알아먹을 수 있어야한다.\n",
    "        - 변수명은 길더라도 알아먹을 수 있도록 해야한다.\n",
    "        - 반복적인 코딩은 웬만하면 하지 않는다.\n",
    "        - 탑다운 방식으로 코딩을 작성한다.  \n",
    "\n",
    "    - 계기 : 석사 연구 과제에서 농산물 가격 예측 알고리즘을 맡았고 데이터베이스와 웹 쪽은 다른 업체에서 맡아 진행하는 프로젝트가 있었다. \n",
    "    \n",
    "        - **내가 언제든 다시 읽어도 쉬운 코드**  \n",
    "        생각보다 연구 기간이 길었고 다른 일로 인해 중간에 코딩을 하지 않고 오랜만에 내 코딩을 다시 보게 되었을 때 양이 많아 이해하기 힘들었다. 처음 코딩을 할 때는 이해되었던 코드들도 변수, 파일명, 클래스 등 version 도 여러개가 있어 더 헷갈렸다. 이때 내가 코딩을 빨리하고 코드가 간단한 것보다 **내가 언제든 다시 읽어도 쉬운 코드**가 좋은 코드라는 것을 배웠다.  \n",
    "        \n",
    "        - **설명 가능한 이름**  \n",
    "        계기1을 통해 주석, 코드를 너무 압축하지 않았다. 하지만 코드를 공유해야하는 상황이 생겼는데 설명하는데 시간이 많이 들었다. **협업**을 하기 위해서는 변수명, 함수명, 클래스명 등 고유 이름은 누가 봐도 알수 있는 **설명 가능한 이름**을 만들어야한다는 것을 배웠다.   \n",
    "        \n",
    "    2. 같은 코드를 반복해서 적지 않는다.\n",
    "    \n"
   ]
  },
  {
   "cell_type": "code",
   "execution_count": null,
   "id": "84a37f70-290b-4363-800c-486e25878e17",
   "metadata": {},
   "outputs": [],
   "source": []
  }
 ],
 "metadata": {
  "kernelspec": {
   "display_name": "Python 3 (ipykernel)",
   "language": "python",
   "name": "python3"
  },
  "language_info": {
   "codemirror_mode": {
    "name": "ipython",
    "version": 3
   },
   "file_extension": ".py",
   "mimetype": "text/x-python",
   "name": "python",
   "nbconvert_exporter": "python",
   "pygments_lexer": "ipython3",
   "version": "3.10.4"
  }
 },
 "nbformat": 4,
 "nbformat_minor": 5
}
