{
 "cells": [
  {
   "cell_type": "markdown",
   "id": "688ae14c-9c0b-420a-8e52-92a071e6059c",
   "metadata": {},
   "source": [
    "---\n",
    "layout: post  \n",
    "current: post  \n",
    "cover:  assets/built/images/python-logo.png  \n",
    "navigation: True  \n",
    "title: W3school_pythontutorial(2)   \n",
    "date: 2022-07-20 12:00:00 +0900  \n",
    "tags: [python]  \n",
    "class: post-template  \n",
    "subclass: 'post tag-python'  \n",
    "author: chanp5660  \n",
    "---"
   ]
  },
  {
   "cell_type": "markdown",
   "id": "00aba47f-e13a-41e5-b865-cb3009c558c4",
   "metadata": {},
   "source": [
    "{% include w3python-table-of-contents.html %}"
   ]
  },
  {
   "cell_type": "markdown",
   "id": "582a9e4f-0fb9-423a-8130-c1b37ba44c1d",
   "metadata": {
    "tags": []
   },
   "source": [
    "# W3school_pythontutorial(2)\n",
    "\n",
    "> **내실 다지기** : [w3school](https://www.w3schools.com/) 사이트에서 python tutorial을 처음부터 끝까지 하는 목표로 시작하는 포스팅으로 제공해주는 목차 순서대로 진행한다. 간단한 내용은 제공해준 예제만 실행해본다. 활용해볼 예제는 추가로 간단한 예제를 만들어 실행하는 코드까지 작성하며 내실을 다진다.\n",
    "\n"
   ]
  },
  {
   "cell_type": "markdown",
   "id": "a56063ae-ff90-4cd4-8897-713265600e6b",
   "metadata": {},
   "source": [
    "- 주제\n",
    "    - [Introduction](#Introduction)\n"
   ]
  },
  {
   "cell_type": "code",
   "execution_count": null,
   "id": "13ad5906-8281-48ac-b371-573378db1832",
   "metadata": {},
   "outputs": [],
   "source": []
  }
 ],
 "metadata": {
  "kernelspec": {
   "display_name": "Python 3 (ipykernel)",
   "language": "python",
   "name": "python3"
  },
  "language_info": {
   "codemirror_mode": {
    "name": "ipython",
    "version": 3
   },
   "file_extension": ".py",
   "mimetype": "text/x-python",
   "name": "python",
   "nbconvert_exporter": "python",
   "pygments_lexer": "ipython3",
   "version": "3.10.4"
  }
 },
 "nbformat": 4,
 "nbformat_minor": 5
}
