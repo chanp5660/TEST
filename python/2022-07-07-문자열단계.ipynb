{
 "cells": [
  {
   "cell_type": "markdown",
   "id": "165bff55-ffca-4075-b8d0-ab0f85248863",
   "metadata": {},
   "source": [
    "---\n",
    "layout: post  \n",
    "current: post  \n",
    "cover:  assets/built/images/python-logo.png  \n",
    "navigation: True  \n",
    "title: 백준-단계별-문자열단계  \n",
    "date: 2022-07-07 17:00:00 +0900  \n",
    "tags: [python]  \n",
    "class: post-template  \n",
    "subclass: 'post tag-python'  \n",
    "author: chanp5660  \n",
    "---"
   ]
  },
  {
   "cell_type": "markdown",
   "id": "bf46f0c2-6e21-4dc8-bc21-3a381458a43a",
   "metadata": {},
   "source": [
    "# 백준-단계별-문자열단계  \n",
    "https://www.acmicpc.net/step/7"
   ]
  },
  {
   "cell_type": "markdown",
   "id": "7e9000c4-4fbd-4af9-97b6-ecf4174b5cee",
   "metadata": {},
   "source": [
    "## 크로아티아 알파벳 (9-2941)\n",
    "\n",
    "https://www.acmicpc.net/problem/2941"
   ]
  },
  {
   "cell_type": "markdown",
   "id": "a16ff5a0-d59b-44ac-a45e-ef2fa95f5c05",
   "metadata": {},
   "source": [
    "- 예전에는 운영체제에서 크로아티아 알파벳을 입력할 수가 없었다. 따라서, 다음과 같이 크로아티아 알파벳을 변경해서 입력했다.\n",
    "\n",
    "|크로아티아 알파벳|변경|\n",
    "|---|---|\n",
    "|č|c=|\n",
    "|ć|c-|\n",
    "|dž|dz=|\n",
    "|đ|d-|\n",
    "|lj|lj|\n",
    "|nj|nj|\n",
    "|š|s=|\n",
    "|ž|z=|  \n",
    "\n",
    "- 예를 들어, ljes=njak은 크로아티아 알파벳 6개(lj, e, š, nj, a, k)로 이루어져 있다. 단어가 주어졌을 때, 몇 개의 크로아티아 알파벳으로 이루어져 있는지 출력한다.  \n",
    "dž는 무조건 하나의 알파벳으로 쓰이고, d와 ž가 분리된 것으로 보지 않는다. lj와 nj도 마찬가지이다. 위 목록에 없는 알파벳은 한 글자씩 센다.\n",
    "\n",
    "- 입력  \n",
    "첫째 줄에 최대 100글자의 단어가 주어진다. 알파벳 소문자와 '-', '='로만 이루어져 있다.  \n",
    "단어는 크로아티아 알파벳으로 이루어져 있다. 문제 설명의 표에 나와있는 알파벳은 변경된 형태로 입력된다.  \n",
    "\n",
    "- 출력  \n",
    "입력으로 주어진 단어가 몇 개의 크로아티아 알파벳으로 이루어져 있는지 출력한다.  \n",
    "\n",
    "예제 입력 1   \n",
    "ljes=njak  \n",
    "예제 출력 1   \n",
    "6  \n",
    "예제 입력 2   \n",
    "ddz=z=  \n",
    "예제 출력 2   \n",
    "3  \n",
    "예제 입력 3   \n",
    "nljj  \n",
    "예제 출력 3   \n",
    "3  \n",
    "예제 입력 4   \n",
    "c=c=  \n",
    "예제 출력 4   \n",
    "2  \n",
    "예제 입력 5   \n",
    "dz=ak  \n",
    "예제 출력 5   \n",
    "3  \n"
   ]
  },
  {
   "cell_type": "markdown",
   "id": "6dc067d1-8b9f-488c-95a1-7e814cb714bb",
   "metadata": {},
   "source": [
    "- 코딩 전\n",
    "    - 입력된 문자열을 하나씩 변경된 문자에 비교\n",
    "    - 있을때 알파벳 개수를 하나씩 늘려준다."
   ]
  },
  {
   "cell_type": "code",
   "execution_count": 5,
   "id": "3673be2f-a7af-4a22-999b-8e042737ac16",
   "metadata": {},
   "outputs": [
    {
     "name": "stdout",
     "output_type": "stream",
     "text": [
      "l\n",
      "lj\n",
      "확인 lj\n",
      "e\n",
      "es\n",
      "es=\n",
      "es=n\n",
      "es=nj\n",
      "es=nja\n",
      "es=njak\n",
      "1\n"
     ]
    }
   ],
   "source": [
    "String = \"ljes=njak\"\n",
    "Word_list = [\"c=\",\"c-\",\"dz=\",\"d-\",\"lj\",\"nj\",\"s=\",\"z=\"]\n",
    "Word_count = 0\n",
    "check_word =\"\"\n",
    "for word in String:\n",
    "    check_word += word\n",
    "    print(check_word)\n",
    "    if check_word in Word_list:\n",
    "        Word_count +=1\n",
    "        print(\"확인\",check_word)\n",
    "        check_word = \"\"\n",
    "print(Word_count)"
   ]
  },
  {
   "cell_type": "markdown",
   "id": "dac39829-b9ee-433e-aab5-75a4154a83e3",
   "metadata": {},
   "source": [
    "- 코딩 중간\n",
    "    - 입력될 문자가 주어진 단어에도 없다는 것을 확인했다.\n",
    "    - 전체 문자열에서 주어진 단어들이 몇개가 포함되어 있는지를 파악\n",
    "    - 전체 문자개수에 주어진 단어 개수만큼 뺀다. ( 3글자면 2를 뺌 )\n",
    "    - ~~특정 문자로 분리할 수 있는 split을 이용해서 분리한다.~~ 문자가 연속일때 문제가 생김\n",
    "    - 분리한 문자는 제거하면서 진행"
   ]
  },
  {
   "cell_type": "code",
   "execution_count": 6,
   "id": "8d16dc2b-9be8-464e-a90e-117ca73df88a",
   "metadata": {},
   "outputs": [
    {
     "name": "stdout",
     "output_type": "stream",
     "text": [
      "nj\n"
     ]
    },
    {
     "ename": "NameError",
     "evalue": "name 'unlist' is not defined",
     "output_type": "error",
     "traceback": [
      "\u001b[1;31m---------------------------------------------------------------------------\u001b[0m",
      "\u001b[1;31mNameError\u001b[0m                                 Traceback (most recent call last)",
      "Input \u001b[1;32mIn [6]\u001b[0m, in \u001b[0;36m<cell line: 6>\u001b[1;34m()\u001b[0m\n\u001b[0;32m      4\u001b[0m word \u001b[38;5;241m=\u001b[39m Word_list[\u001b[38;5;241m5\u001b[39m]\n\u001b[0;32m      5\u001b[0m \u001b[38;5;28mprint\u001b[39m(word)\n\u001b[1;32m----> 6\u001b[0m \u001b[43munlist\u001b[49m(String\u001b[38;5;241m.\u001b[39msplit(word))\n",
      "\u001b[1;31mNameError\u001b[0m: name 'unlist' is not defined"
     ]
    }
   ],
   "source": [
    "String = \"ljes=njak\"\n",
    "Word_list = [\"c=\",\"c-\",\"dz=\",\"d-\",\"lj\",\"nj\",\"s=\",\"z=\"]\n",
    "\n",
    "word = Word_list[5]\n",
    "print(word)\n"
   ]
  },
  {
   "cell_type": "code",
   "execution_count": 19,
   "id": "1a2c88f1-ce17-4b2b-ac00-1c9fa250c0a3",
   "metadata": {},
   "outputs": [
    {
     "data": {
      "text/plain": [
       "False"
      ]
     },
     "execution_count": 19,
     "metadata": {},
     "output_type": "execute_result"
    }
   ],
   "source": []
  },
  {
   "cell_type": "code",
   "execution_count": null,
   "id": "d07e38c9-e941-4515-a613-777b463af7e6",
   "metadata": {},
   "outputs": [],
   "source": []
  }
 ],
 "metadata": {
  "kernelspec": {
   "display_name": "Python 3 (ipykernel)",
   "language": "python",
   "name": "python3"
  },
  "language_info": {
   "codemirror_mode": {
    "name": "ipython",
    "version": 3
   },
   "file_extension": ".py",
   "mimetype": "text/x-python",
   "name": "python",
   "nbconvert_exporter": "python",
   "pygments_lexer": "ipython3",
   "version": "3.10.4"
  }
 },
 "nbformat": 4,
 "nbformat_minor": 5
}
