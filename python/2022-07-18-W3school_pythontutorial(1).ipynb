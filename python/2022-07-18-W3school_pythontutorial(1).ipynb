{
 "cells": [
  {
   "cell_type": "markdown",
   "id": "688ae14c-9c0b-420a-8e52-92a071e6059c",
   "metadata": {},
   "source": [
    "---\n",
    "layout: post  \n",
    "current: post  \n",
    "cover:  assets/built/images/python-logo.png  \n",
    "navigation: True  \n",
    "title: W3school_pythontutorial(1)   \n",
    "date: 2022-07-18 20:00:00 +0900  \n",
    "tags: [python]  \n",
    "class: post-template  \n",
    "subclass: 'post tag-python'  \n",
    "author: chanp5660  \n",
    "---"
   ]
  },
  {
   "cell_type": "markdown",
   "id": "00aba47f-e13a-41e5-b865-cb3009c558c4",
   "metadata": {},
   "source": [
    "{% include w3python-table-of-contents.html %}"
   ]
  },
  {
   "cell_type": "markdown",
   "id": "582a9e4f-0fb9-423a-8130-c1b37ba44c1d",
   "metadata": {
    "tags": []
   },
   "source": [
    "# W3school_pythontutorial(1)\n",
    "\n",
    "> **내실 다지기** : [w3school](https://www.w3schools.com/) 사이트에서 python tutorial을 처음부터 끝까지 하는 목표로 시작하는 포스팅으로 제공해주는 목차 순서대로 진행한다. 간단한 내용은 제공해준 예제만 실행해본다. 활용해볼 예제는 추가로 간단한 예제를 만들어 실행하는 코드까지 작성하며 내실을 다진다.\n",
    "\n"
   ]
  },
  {
   "cell_type": "markdown",
   "id": "a56063ae-ff90-4cd4-8897-713265600e6b",
   "metadata": {},
   "source": [
    "- 주제\n",
    "    - [Introduction](#Introduction)\n",
    "    - [Getting Started](#Getting-Started)\n",
    "    - [Syntax](#Syntax)\n",
    "    - [Comments](#Comments)\n",
    "    - [Variables](#Variables)([Variables](#Variables), [Variable Names](#Variable-Names), [Assign Multiple Values](#Assign-Multiple-Values), [Output Variables](#Output-Variables), [Global Variables](#Global-Variables), [Variable Exercises](#Variable-Exercises))\n",
    "    - [Data Types](#Data-Types)\n",
    "    - [Numbers](#Numbers)\n",
    "    - [Casting](#Casting)\n",
    "    - [Strings](#Strings)"
   ]
  },
  {
   "cell_type": "markdown",
   "id": "ae2499cc-a2b9-4bc6-b2c7-e6291b058841",
   "metadata": {},
   "source": [
    "## Introduction  \n",
    "\n",
    "> [python Introduction](https://www.w3schools.com/python/python_intro.asp)\n"
   ]
  },
  {
   "cell_type": "markdown",
   "id": "f538d5af-3dea-40e7-908d-f26dbde8aadf",
   "metadata": {},
   "source": [
    "## Getting Started  \n",
    "\n",
    "> [Python Getting Started](https://www.w3schools.com/python/python_getstarted.asp)"
   ]
  },
  {
   "cell_type": "code",
   "execution_count": 1,
   "id": "4c7b6a0d-ac3c-421e-aeb4-f929d9d9080d",
   "metadata": {},
   "outputs": [
    {
     "name": "stdout",
     "output_type": "stream",
     "text": [
      "Hello, World\n"
     ]
    }
   ],
   "source": [
    "print(\"Hello, World\")"
   ]
  },
  {
   "cell_type": "markdown",
   "id": "9d3ac572-0755-4cd1-87b3-d43968ac5249",
   "metadata": {},
   "source": [
    "## Syntax  \n",
    "\n",
    "> [Python Syntax](https://www.w3schools.com/python/python_syntax.asp)"
   ]
  },
  {
   "cell_type": "code",
   "execution_count": 2,
   "id": "dc111034-88f7-4379-a6ce-35a705b6354f",
   "metadata": {},
   "outputs": [
    {
     "name": "stdout",
     "output_type": "stream",
     "text": [
      "Five is greater than two!\n"
     ]
    }
   ],
   "source": [
    "# indentation 들여쓰기\n",
    "if 5 > 2:\n",
    "    print(\"Five is greater than two!\")"
   ]
  },
  {
   "cell_type": "code",
   "execution_count": 3,
   "id": "395771eb-7db3-4a45-b036-0cfe7f34e02c",
   "metadata": {},
   "outputs": [],
   "source": [
    "x = 5\n",
    "y = \"Hello, World!\""
   ]
  },
  {
   "cell_type": "markdown",
   "id": "6692ca12-4af2-4384-a7fb-e29150a4c5c8",
   "metadata": {},
   "source": [
    "## Comments  \n",
    "\n",
    "> [Python Comments](https://www.w3schools.com/python/python_comments.asp)"
   ]
  },
  {
   "cell_type": "code",
   "execution_count": 5,
   "id": "6750c511-c2e1-4c62-a690-a05054532c91",
   "metadata": {},
   "outputs": [
    {
     "name": "stdout",
     "output_type": "stream",
     "text": [
      "Hello, World!\n"
     ]
    }
   ],
   "source": [
    "#This is a comment\n",
    "#written in\n",
    "#more than just one line\n",
    "print(\"Hello, World!\")"
   ]
  },
  {
   "cell_type": "code",
   "execution_count": 6,
   "id": "baa20267-4285-4202-af54-a2c19a7f9e10",
   "metadata": {},
   "outputs": [
    {
     "name": "stdout",
     "output_type": "stream",
     "text": [
      "Hello, World!\n"
     ]
    }
   ],
   "source": [
    "\"\"\"\n",
    "This is a comment\n",
    "written in\n",
    "more than just one line\n",
    "\"\"\"\n",
    "print(\"Hello, World!\")"
   ]
  },
  {
   "cell_type": "markdown",
   "id": "a88f1ab3-79cd-494d-903c-fe4e587fc0bb",
   "metadata": {},
   "source": [
    "## Variables  \n",
    "\n",
    "> [Python Variables](https://www.w3schools.com/python/python_variables.asp)"
   ]
  },
  {
   "cell_type": "code",
   "execution_count": 7,
   "id": "e7bc67c7-2c0e-4b60-b19a-187331c6a51d",
   "metadata": {},
   "outputs": [
    {
     "name": "stdout",
     "output_type": "stream",
     "text": [
      "5\n",
      "John\n"
     ]
    }
   ],
   "source": [
    "x = 5\n",
    "y = \"John\"\n",
    "print(x)\n",
    "print(y)"
   ]
  },
  {
   "cell_type": "code",
   "execution_count": 8,
   "id": "3acc9a56-79cc-4a51-8d51-ce9e10158dd2",
   "metadata": {},
   "outputs": [
    {
     "name": "stdout",
     "output_type": "stream",
     "text": [
      "Sally\n"
     ]
    }
   ],
   "source": [
    "x = 4       # x is of type int\n",
    "x = \"Sally\" # x is now of type str\n",
    "print(x)"
   ]
  },
  {
   "cell_type": "code",
   "execution_count": 11,
   "id": "fe578bdf-99bf-4abc-8d21-bf5366f6800b",
   "metadata": {},
   "outputs": [],
   "source": [
    "#casting\n",
    "x = str(3)    # x will be '3'\n",
    "y = int(3)    # y will be 3\n",
    "z = float(3)  # z will be 3.0"
   ]
  },
  {
   "cell_type": "code",
   "execution_count": 10,
   "id": "6ae9aff9-b127-448c-9f45-8af7fd51d93a",
   "metadata": {},
   "outputs": [
    {
     "name": "stdout",
     "output_type": "stream",
     "text": [
      "<class 'int'>\n",
      "<class 'str'>\n"
     ]
    }
   ],
   "source": [
    "x = 5\n",
    "y = \"John\"\n",
    "print(type(x))\n",
    "print(type(y))"
   ]
  },
  {
   "cell_type": "code",
   "execution_count": 12,
   "id": "9efa1472-99bd-4792-a7df-ab663be0105e",
   "metadata": {},
   "outputs": [],
   "source": [
    "x = \"John\"\n",
    "# is the same as\n",
    "x = 'John'"
   ]
  },
  {
   "cell_type": "code",
   "execution_count": 13,
   "id": "83753464-6935-4b68-83e0-310c2dd3fa1c",
   "metadata": {},
   "outputs": [],
   "source": [
    "a = 4\n",
    "A = \"Sally\"\n",
    "#A will not overwrite a"
   ]
  },
  {
   "cell_type": "markdown",
   "id": "c6c1b062-5cd2-432e-bb2c-99e09b1505bc",
   "metadata": {},
   "source": [
    "### Variable Names  \n",
    "\n",
    "> [Python - Variable Names](https://www.w3schools.com/python/python_variables_names.asp)"
   ]
  },
  {
   "cell_type": "markdown",
   "id": "b247df40-698a-4ad5-9123-d26f9459f38b",
   "metadata": {},
   "source": [
    "- 다중 단어에 대한 팁 3가지  \n",
    "\n",
    "    - Camel Case\n",
    "        ```python\n",
    "        myVariableName = \"John\"\n",
    "        ```  \n",
    "        \n",
    "    - Pascal Case\n",
    "        ```python\n",
    "        MyVariableName = \"John\"\n",
    "        ```  \n",
    "        \n",
    "    - Snake Case\n",
    "        ```python\n",
    "        my_variable_name = \"John\"\n",
    "        ```"
   ]
  },
  {
   "cell_type": "markdown",
   "id": "8f27e55b-2b82-416c-be9d-35e88b7f294c",
   "metadata": {},
   "source": [
    "### Assign Multiple Values  \n",
    "\n",
    "> [Python Variables - Assign Multiple Values](https://www.w3schools.com/python/python_variables_multiple.asp)"
   ]
  },
  {
   "cell_type": "code",
   "execution_count": 16,
   "id": "099e12de-4c0d-4160-a73c-c7847413f374",
   "metadata": {},
   "outputs": [
    {
     "name": "stdout",
     "output_type": "stream",
     "text": [
      "Orange\n",
      "Banana\n",
      "Cherry\n"
     ]
    }
   ],
   "source": [
    "# 여러 변수에 여러 값\n",
    "x, y, z = \"Orange\", \"Banana\", \"Cherry\"\n",
    "print(x)\n",
    "print(y)\n",
    "print(z)"
   ]
  },
  {
   "cell_type": "code",
   "execution_count": 17,
   "id": "1cb723e9-9372-4646-908f-ba40709d48ca",
   "metadata": {},
   "outputs": [
    {
     "name": "stdout",
     "output_type": "stream",
     "text": [
      "Orange\n",
      "Orange\n",
      "Orange\n"
     ]
    }
   ],
   "source": [
    "# 여러 변수에 하나의 값\n",
    "x = y = z = \"Orange\"\n",
    "print(x)\n",
    "print(y)\n",
    "print(z)"
   ]
  },
  {
   "cell_type": "code",
   "execution_count": 18,
   "id": "e04270cc-32ed-47dc-be59-ff403bbdd9d6",
   "metadata": {},
   "outputs": [
    {
     "name": "stdout",
     "output_type": "stream",
     "text": [
      "apple\n",
      "banana\n",
      "cherry\n"
     ]
    }
   ],
   "source": [
    "# 집합 풀기\n",
    "fruits = [\"apple\", \"banana\", \"cherry\"]\n",
    "x, y, z = fruits\n",
    "print(x)\n",
    "print(y)\n",
    "print(z)"
   ]
  },
  {
   "cell_type": "markdown",
   "id": "250f55cc-23a4-4230-90f1-b889b80b7b0c",
   "metadata": {},
   "source": [
    "### Output Variables\n",
    "\n",
    "> [Python - Output Variables](https://www.w3schools.com/python/python_variables_output.asp)"
   ]
  },
  {
   "cell_type": "code",
   "execution_count": 19,
   "id": "a62124db-b8b0-4930-a5c1-e3bf4d497c7b",
   "metadata": {},
   "outputs": [
    {
     "name": "stdout",
     "output_type": "stream",
     "text": [
      "Python is awesome\n"
     ]
    }
   ],
   "source": [
    "x = \"Python is awesome\"\n",
    "print(x)"
   ]
  },
  {
   "cell_type": "code",
   "execution_count": 20,
   "id": "a870de12-c6f6-4225-83f7-bb9ad8330f53",
   "metadata": {},
   "outputs": [
    {
     "name": "stdout",
     "output_type": "stream",
     "text": [
      "Python is awesome\n"
     ]
    }
   ],
   "source": [
    "x = \"Python\"\n",
    "y = \"is\"\n",
    "z = \"awesome\"\n",
    "print(x, y, z)"
   ]
  },
  {
   "cell_type": "code",
   "execution_count": 23,
   "id": "1383d1f7-0e88-41db-8b6a-2a5d14f85b51",
   "metadata": {},
   "outputs": [
    {
     "name": "stdout",
     "output_type": "stream",
     "text": [
      "Python is awesome\n"
     ]
    }
   ],
   "source": [
    "# 텍스트 합\n",
    "x = \"Python \"\n",
    "y = \"is \"\n",
    "z = \"awesome\"\n",
    "print(x + y + z)"
   ]
  },
  {
   "cell_type": "code",
   "execution_count": 24,
   "id": "b27bcb88-6dab-43ca-aea6-2dea5d98b530",
   "metadata": {},
   "outputs": [
    {
     "name": "stdout",
     "output_type": "stream",
     "text": [
      "15\n"
     ]
    }
   ],
   "source": [
    "# 숫자 합(텍스트, 숫자 혼합은 안됨)\n",
    "x = 5\n",
    "y = 10\n",
    "print(x + y)"
   ]
  },
  {
   "cell_type": "markdown",
   "id": "aabedadb-4984-4858-abd8-b0013e9b7dce",
   "metadata": {},
   "source": [
    "### Global Variables\n",
    "\n",
    "> [Python - Global Variables](https://www.w3schools.com/python/python_variables_global.asp)"
   ]
  },
  {
   "cell_type": "code",
   "execution_count": 25,
   "id": "50b08da7-bb52-4a05-804a-5bd516d6a48a",
   "metadata": {},
   "outputs": [
    {
     "name": "stdout",
     "output_type": "stream",
     "text": [
      "Python is awesome\n"
     ]
    }
   ],
   "source": [
    "x = \"awesome\" # 전역 변수\n",
    "\n",
    "def myfunc():\n",
    "    print(\"Python is \" + x)\n",
    "\n",
    "myfunc()"
   ]
  },
  {
   "cell_type": "code",
   "execution_count": 26,
   "id": "882fa04f-dde9-4800-9101-05904ad48f12",
   "metadata": {},
   "outputs": [
    {
     "name": "stdout",
     "output_type": "stream",
     "text": [
      "Python is fantastic\n",
      "Python is awesome\n"
     ]
    }
   ],
   "source": [
    "x = \"awesome\" # 전역변수\n",
    "\n",
    "def myfunc():\n",
    "  x = \"fantastic\" # 지역변수\n",
    "  print(\"Python is \" + x)\n",
    "\n",
    "myfunc()\n",
    "\n",
    "print(\"Python is \" + x)"
   ]
  },
  {
   "cell_type": "code",
   "execution_count": 27,
   "id": "aac0a020-3ae7-42ef-9f91-eca3d84d9a42",
   "metadata": {},
   "outputs": [
    {
     "name": "stdout",
     "output_type": "stream",
     "text": [
      "Python is fantastic\n"
     ]
    }
   ],
   "source": [
    "# 함수 내에서 전역변수 생성\n",
    "def myfunc():\n",
    "    global x\n",
    "    x = \"fantastic\"\n",
    "\n",
    "myfunc()\n",
    "\n",
    "print(\"Python is \" + x)"
   ]
  },
  {
   "cell_type": "code",
   "execution_count": 28,
   "id": "77a873f0-67a2-421a-9b6e-66e60d27897b",
   "metadata": {},
   "outputs": [
    {
     "name": "stdout",
     "output_type": "stream",
     "text": [
      "Python is fantastic\n"
     ]
    }
   ],
   "source": [
    "x = \"awesome\"\n",
    "\n",
    "def myfunc():\n",
    "    global x\n",
    "    x = \"fantastic\"\n",
    "\n",
    "myfunc()\n",
    "\n",
    "print(\"Python is \" + x)"
   ]
  },
  {
   "cell_type": "markdown",
   "id": "090350d9-14d3-4850-a610-4e40cea29a76",
   "metadata": {},
   "source": [
    "### Variable Exercises  \n",
    "\n",
    "> [Python - Variable Exercises](https://www.w3schools.com/python/python_variables_exercises.asp)  \n",
    "[예제사이트](https://www.w3schools.com/python/exercise.asp?filename=exercise_variables1)"
   ]
  },
  {
   "cell_type": "code",
   "execution_count": 29,
   "id": "11e6bff8-f04a-415c-9f8d-e27cd1ab51f9",
   "metadata": {},
   "outputs": [
    {
     "name": "stdout",
     "output_type": "stream",
     "text": [
      "15\n"
     ]
    }
   ],
   "source": [
    "# 1\n",
    "carname = \"Volve\"\n",
    "# 2\n",
    "x=50\n",
    "# 3\n",
    "x=5\n",
    "y=10\n",
    "print(x+y)"
   ]
  },
  {
   "cell_type": "code",
   "execution_count": 30,
   "id": "cb6e609b-e19f-42f7-ac50-a21d1eae599b",
   "metadata": {},
   "outputs": [
    {
     "name": "stdout",
     "output_type": "stream",
     "text": [
      "15\n"
     ]
    }
   ],
   "source": [
    "# 4\n",
    "x = 5\n",
    "y = 10\n",
    "z = x + y\n",
    "print(z)"
   ]
  },
  {
   "cell_type": "code",
   "execution_count": 31,
   "id": "d41f7388-2568-46fc-8a68-ca48220d50e8",
   "metadata": {},
   "outputs": [],
   "source": [
    "# 5 변수명 수정 \n",
    "# 2my-first_name = \"John\"\n",
    "myfirst_name = \"John\""
   ]
  },
  {
   "cell_type": "code",
   "execution_count": 36,
   "id": "e018a48c-4b0f-46c0-a831-bbb42f00d59b",
   "metadata": {},
   "outputs": [],
   "source": [
    "# 6\n",
    "x = y = z = \"Orange\""
   ]
  },
  {
   "cell_type": "code",
   "execution_count": 38,
   "id": "70102ed7-cf2e-44fe-9c25-5bf710325752",
   "metadata": {},
   "outputs": [],
   "source": [
    "# 7\n",
    "def myfunc():\n",
    "    global x\n",
    "    x = \"fantastic\"\n",
    "myfunc()"
   ]
  },
  {
   "cell_type": "markdown",
   "id": "c2e08743-87e8-4c51-bb93-1b1d882eccd1",
   "metadata": {},
   "source": [
    "## Data Types  \n",
    "\n",
    "> [Python Data Types](https://www.w3schools.com/python/python_datatypes.asp)\n",
    "\n",
    "Text Type : **str**  \n",
    "Numeric Types : **int, float, complex**  \n",
    "Sequence Types : **list, tuple, range**  \n",
    "Mapping Type : **dict**  \n",
    "Set Types : **set, frozenset**   \n",
    "Boolean Type : **bool**  \n",
    "Binary Types : **bytes, bytearray, memoryview**  \n",
    "None Type : **NoneType**  "
   ]
  },
  {
   "cell_type": "code",
   "execution_count": 39,
   "id": "7b27c7dc-6d71-4266-9b94-7ef26d672057",
   "metadata": {},
   "outputs": [
    {
     "name": "stdout",
     "output_type": "stream",
     "text": [
      "<class 'int'>\n"
     ]
    }
   ],
   "source": [
    "x = 5\n",
    "print(type(x))"
   ]
  },
  {
   "cell_type": "markdown",
   "id": "bae910cb-91b1-472d-9e42-79b507813da7",
   "metadata": {},
   "source": [
    "- Example Data Type  \n",
    "x = \"Hello World\" **# str**  \n",
    "x = 20 **# int**   \n",
    "x = 20.5 **# float**   \n",
    "x = 1j **# complex**    \n",
    "x = [\"apple\", \"banana\", \"cherry\"] **# list**  \n",
    "x = (\"apple\", \"banana\", \"cherry\")  **# tuple**  \n",
    "x = range(6) **# range**  \n",
    "x = {\"name\" : \"John\", \"age\" : 36} **# dict**  \n",
    "x = {\"apple\", \"banana\", \"cherry\"} **# set**  \n",
    "x = frozenset({\"apple\", \"banana\", \"cherry\"}) **# frozenset**  \n",
    "x = True  **# bool**  \n",
    "x = b\"Hello\" **# bytes**  \n",
    "x = bytearray(5) **# bytearray**  \n",
    "x = memoryview(bytes(5)) **# memoryview**  \n",
    "x = None **# NoneType**  "
   ]
  },
  {
   "cell_type": "markdown",
   "id": "31d03390-3611-44e6-9ba4-fb76e9e5745c",
   "metadata": {},
   "source": [
    "## Numbers\n",
    "\n",
    "> [Python Numbers](https://www.w3schools.com/python/python_numbers.asp)\n",
    "\n",
    "int  \n",
    "float  \n",
    "complex  "
   ]
  },
  {
   "cell_type": "code",
   "execution_count": 40,
   "id": "4eba5c9f-15c5-489e-a18b-514d599fe7fe",
   "metadata": {},
   "outputs": [
    {
     "name": "stdout",
     "output_type": "stream",
     "text": [
      "<class 'int'>\n",
      "<class 'float'>\n",
      "<class 'complex'>\n"
     ]
    }
   ],
   "source": [
    "x = 1    # int\n",
    "y = 2.8  # float\n",
    "z = 1j   # complex\n",
    "print(type(x))\n",
    "print(type(y))\n",
    "print(type(z))"
   ]
  },
  {
   "cell_type": "code",
   "execution_count": 41,
   "id": "fc22800c-4d87-4201-8b57-537d2e07a9b3",
   "metadata": {},
   "outputs": [
    {
     "name": "stdout",
     "output_type": "stream",
     "text": [
      "<class 'int'>\n",
      "<class 'int'>\n",
      "<class 'int'>\n"
     ]
    }
   ],
   "source": [
    "# int\n",
    "x = 1\n",
    "y = 35656222554887711\n",
    "z = -3255522\n",
    "\n",
    "print(type(x))\n",
    "print(type(y))\n",
    "print(type(z))"
   ]
  },
  {
   "cell_type": "code",
   "execution_count": 42,
   "id": "d449b9d4-ea71-40e3-b2fb-39f0ac7e669f",
   "metadata": {},
   "outputs": [
    {
     "name": "stdout",
     "output_type": "stream",
     "text": [
      "<class 'float'>\n",
      "<class 'float'>\n",
      "<class 'float'>\n"
     ]
    }
   ],
   "source": [
    "# float\n",
    "\n",
    "x = 1.10\n",
    "y = 1.0\n",
    "z = -35.59\n",
    "\n",
    "print(type(x))\n",
    "print(type(y))\n",
    "print(type(z))"
   ]
  },
  {
   "cell_type": "code",
   "execution_count": 43,
   "id": "c51b6a46-cc31-4893-a3b5-5b2017d946c3",
   "metadata": {},
   "outputs": [
    {
     "name": "stdout",
     "output_type": "stream",
     "text": [
      "<class 'float'>\n",
      "<class 'float'>\n",
      "<class 'float'>\n"
     ]
    }
   ],
   "source": [
    "# E 지수\n",
    "x = 35e3\n",
    "y = 12E4\n",
    "z = -87.7e100\n",
    "\n",
    "print(type(x))\n",
    "print(type(y))\n",
    "print(type(z))"
   ]
  },
  {
   "cell_type": "code",
   "execution_count": 47,
   "id": "9f6fed16-68c0-4db0-8246-0ffc2778b332",
   "metadata": {},
   "outputs": [
    {
     "name": "stdout",
     "output_type": "stream",
     "text": [
      "<class 'complex'>\n",
      "<class 'complex'>\n",
      "<class 'complex'>\n"
     ]
    }
   ],
   "source": [
    "# complex\n",
    "x = 3+5j\n",
    "y = 5j\n",
    "z = -5j\n",
    "\n",
    "print(type(x))\n",
    "print(type(y))\n",
    "print(type(z))"
   ]
  },
  {
   "cell_type": "code",
   "execution_count": 48,
   "id": "3e6748eb-de42-4b70-b6e8-191551f9ae3e",
   "metadata": {},
   "outputs": [
    {
     "name": "stdout",
     "output_type": "stream",
     "text": [
      "1.0\n",
      "2\n",
      "(1+0j)\n",
      "<class 'float'>\n",
      "<class 'int'>\n",
      "<class 'complex'>\n"
     ]
    }
   ],
   "source": [
    "### type conversion\n",
    "x = 1    # int\n",
    "y = 2.8  # float\n",
    "z = 1j   # complex\n",
    "\n",
    "#convert from int to float:\n",
    "a = float(x)\n",
    "\n",
    "#convert from float to int:\n",
    "b = int(y)\n",
    "\n",
    "#convert from int to complex:\n",
    "c = complex(x)\n",
    "\n",
    "print(a)\n",
    "print(b)\n",
    "print(c)\n",
    "\n",
    "print(type(a))\n",
    "print(type(b))\n",
    "print(type(c))"
   ]
  },
  {
   "cell_type": "markdown",
   "id": "ac317324-a0a5-4f35-9795-645da1bd737d",
   "metadata": {},
   "source": [
    "### Random Number"
   ]
  },
  {
   "cell_type": "code",
   "execution_count": 49,
   "id": "1cf99006-da2d-476b-89e4-08bf6e44b17f",
   "metadata": {},
   "outputs": [
    {
     "name": "stdout",
     "output_type": "stream",
     "text": [
      "7\n"
     ]
    }
   ],
   "source": [
    "import random\n",
    "\n",
    "print(random.randrange(1,10))"
   ]
  },
  {
   "cell_type": "markdown",
   "id": "5257ef8f-6986-49b0-988d-299080f6c11e",
   "metadata": {},
   "source": [
    "## Casting  \n",
    "\n",
    "> [Python Casting](https://www.w3schools.com/python/python_casting.asp) = 형변환"
   ]
  },
  {
   "cell_type": "code",
   "execution_count": 51,
   "id": "384ec68c-db91-4f42-8824-222e74c135cc",
   "metadata": {},
   "outputs": [
    {
     "name": "stdout",
     "output_type": "stream",
     "text": [
      "1 2 3\n"
     ]
    }
   ],
   "source": [
    "x = int(1)   # x will be 1\n",
    "y = int(2.8) # y will be 2\n",
    "z = int(\"3\") # z will be 3\n",
    "print(x,y,z)"
   ]
  },
  {
   "cell_type": "code",
   "execution_count": 52,
   "id": "95652f7c-60f4-4000-895d-687533b44e1e",
   "metadata": {},
   "outputs": [
    {
     "name": "stdout",
     "output_type": "stream",
     "text": [
      "1.0 2.8 3.0 4.2\n"
     ]
    }
   ],
   "source": [
    "x = float(1)     # x will be 1.0\n",
    "y = float(2.8)   # y will be 2.8\n",
    "z = float(\"3\")   # z will be 3.0\n",
    "w = float(\"4.2\") # w will be 4.2\n",
    "print(x,y,z,w)"
   ]
  },
  {
   "cell_type": "code",
   "execution_count": 53,
   "id": "e9b94dbd-e515-489d-a146-ec5b0a74c8ec",
   "metadata": {},
   "outputs": [
    {
     "name": "stdout",
     "output_type": "stream",
     "text": [
      "s1 2 3.0\n"
     ]
    }
   ],
   "source": [
    "x = str(\"s1\") # x will be 's1'\n",
    "y = str(2)    # y will be '2'\n",
    "z = str(3.0)  # z will be '3.0'\n",
    "print(x,y,z)"
   ]
  },
  {
   "cell_type": "markdown",
   "id": "0cf288e2-4ab7-41ce-9ecc-28b754aeb18a",
   "metadata": {},
   "source": [
    "## Strings\n",
    "\n",
    "> [Python Strings](https://www.w3schools.com/python/python_strings.asp)"
   ]
  },
  {
   "cell_type": "code",
   "execution_count": 54,
   "id": "0d4687be-785e-47ed-86e0-f87f93385003",
   "metadata": {},
   "outputs": [
    {
     "name": "stdout",
     "output_type": "stream",
     "text": [
      "Hello\n",
      "Hello\n"
     ]
    }
   ],
   "source": [
    "print(\"Hello\")\n",
    "print('Hello')"
   ]
  },
  {
   "cell_type": "code",
   "execution_count": 55,
   "id": "ca43dca4-214d-48ce-8a56-dfbc574f6473",
   "metadata": {},
   "outputs": [
    {
     "name": "stdout",
     "output_type": "stream",
     "text": [
      "Hello\n"
     ]
    }
   ],
   "source": [
    "a = \"Hello\"\n",
    "print(a)"
   ]
  },
  {
   "cell_type": "code",
   "execution_count": 56,
   "id": "be32253f-f884-4d93-9e44-0fbdedd26fe8",
   "metadata": {},
   "outputs": [
    {
     "name": "stdout",
     "output_type": "stream",
     "text": [
      "Lorem ipsum dolor sit amet,\n",
      "consectetur adipiscing elit,\n",
      "sed do eiusmod tempor incididunt\n",
      "ut labore et dolore magna aliqua.\n"
     ]
    }
   ],
   "source": [
    "a = \"\"\"Lorem ipsum dolor sit amet,\n",
    "consectetur adipiscing elit,\n",
    "sed do eiusmod tempor incididunt\n",
    "ut labore et dolore magna aliqua.\"\"\"\n",
    "print(a)"
   ]
  },
  {
   "cell_type": "code",
   "execution_count": 57,
   "id": "00748f17-9bdb-4c62-a125-d2d74dddcdb3",
   "metadata": {},
   "outputs": [
    {
     "name": "stdout",
     "output_type": "stream",
     "text": [
      "Lorem ipsum dolor sit amet,\n",
      "consectetur adipiscing elit,\n",
      "sed do eiusmod tempor incididunt\n",
      "ut labore et dolore magna aliqua.\n"
     ]
    }
   ],
   "source": [
    "a = '''Lorem ipsum dolor sit amet,\n",
    "consectetur adipiscing elit,\n",
    "sed do eiusmod tempor incididunt\n",
    "ut labore et dolore magna aliqua.'''\n",
    "print(a)"
   ]
  },
  {
   "cell_type": "code",
   "execution_count": 59,
   "id": "85ee33a2-039a-4e0f-9823-7df559b76c02",
   "metadata": {},
   "outputs": [
    {
     "name": "stdout",
     "output_type": "stream",
     "text": [
      "e\n"
     ]
    }
   ],
   "source": [
    "# string array\n",
    "a = \"Hello, World!\"\n",
    "print(a[1])"
   ]
  },
  {
   "cell_type": "code",
   "execution_count": 60,
   "id": "f1066f14-1d66-46f9-8c9a-07db5702049e",
   "metadata": {},
   "outputs": [
    {
     "name": "stdout",
     "output_type": "stream",
     "text": [
      "b\n",
      "a\n",
      "n\n",
      "a\n",
      "n\n",
      "a\n"
     ]
    }
   ],
   "source": [
    "# looping Through a String\n",
    "for x in \"banana\":\n",
    "    print(x)"
   ]
  },
  {
   "cell_type": "code",
   "execution_count": 61,
   "id": "32d557ef-d52d-421e-9b88-3a580ec8693f",
   "metadata": {},
   "outputs": [
    {
     "name": "stdout",
     "output_type": "stream",
     "text": [
      "13\n"
     ]
    }
   ],
   "source": [
    "# string length\n",
    "a = \"Hello, World!\"\n",
    "print(len(a))"
   ]
  },
  {
   "cell_type": "code",
   "execution_count": 63,
   "id": "a3f1a05a-fc85-4552-8b08-eef33cde1c55",
   "metadata": {},
   "outputs": [
    {
     "name": "stdout",
     "output_type": "stream",
     "text": [
      "True\n"
     ]
    }
   ],
   "source": [
    "# check string\n",
    "txt = \"The best things in life are free!\"\n",
    "print(\"free\" in txt)"
   ]
  },
  {
   "cell_type": "code",
   "execution_count": 64,
   "id": "916bd8e0-9cae-4c60-b524-397e44293473",
   "metadata": {},
   "outputs": [
    {
     "name": "stdout",
     "output_type": "stream",
     "text": [
      "Yes, 'free' is present.\n"
     ]
    }
   ],
   "source": [
    "txt = \"The best things in life are free!\"\n",
    "if \"free\" in txt:\n",
    "    print(\"Yes, 'free' is present.\")"
   ]
  },
  {
   "cell_type": "code",
   "execution_count": 65,
   "id": "3f74ff26-5d12-4e12-81db-c312c8c4321c",
   "metadata": {},
   "outputs": [
    {
     "name": "stdout",
     "output_type": "stream",
     "text": [
      "True\n"
     ]
    }
   ],
   "source": [
    "# check if not\n",
    "txt = \"The best things in life are free!\"\n",
    "print(\"expensive\" not in txt)"
   ]
  },
  {
   "cell_type": "code",
   "execution_count": 2,
   "id": "6588c890-581d-4475-97e1-9d2f772f5734",
   "metadata": {},
   "outputs": [
    {
     "name": "stdout",
     "output_type": "stream",
     "text": [
      "No, 'expensive' is NOT present.\n"
     ]
    }
   ],
   "source": [
    "txt = \"The best things in life are free!\"\n",
    "if \"expensive\" not in txt:\n",
    "    print(\"No, 'expensive' is NOT present.\")"
   ]
  },
  {
   "cell_type": "markdown",
   "id": "dbb65ad2-e44c-491e-8a49-b8f0b467de3d",
   "metadata": {},
   "source": [
    "### Slicing Strings\n",
    "> [Python - Slicing Strings](https://www.w3schools.com/python/python_strings_slicing.asp)  "
   ]
  },
  {
   "cell_type": "code",
   "execution_count": 3,
   "id": "af827d7d-c310-48a5-ab0f-a25ff896510a",
   "metadata": {},
   "outputs": [
    {
     "name": "stdout",
     "output_type": "stream",
     "text": [
      "llo\n"
     ]
    }
   ],
   "source": [
    "b = \"Hello, World!\"\n",
    "print(b[2:5])"
   ]
  },
  {
   "cell_type": "code",
   "execution_count": 4,
   "id": "7d3b2110-71e8-4a85-839e-b157973e90a4",
   "metadata": {},
   "outputs": [
    {
     "name": "stdout",
     "output_type": "stream",
     "text": [
      "Hello\n"
     ]
    }
   ],
   "source": [
    "b = \"Hello, World!\"\n",
    "print(b[:5])"
   ]
  },
  {
   "cell_type": "code",
   "execution_count": 5,
   "id": "d4b4870c-d70f-466e-96e0-d6f4a93d4d69",
   "metadata": {},
   "outputs": [
    {
     "name": "stdout",
     "output_type": "stream",
     "text": [
      "llo, World!\n"
     ]
    }
   ],
   "source": [
    "b = \"Hello, World!\"\n",
    "print(b[2:])"
   ]
  },
  {
   "cell_type": "code",
   "execution_count": 6,
   "id": "6f83883f-a11a-443a-8213-c0cba3f8e05c",
   "metadata": {},
   "outputs": [
    {
     "name": "stdout",
     "output_type": "stream",
     "text": [
      "orl\n"
     ]
    }
   ],
   "source": [
    "b = \"Hello, World!\"\n",
    "print(b[-5:-2])"
   ]
  },
  {
   "cell_type": "markdown",
   "id": "0e3e2b0e-365a-45a1-9d3d-882dadf2f6d6",
   "metadata": {},
   "source": [
    "### Modify Strings\n",
    "\n",
    "> [Python - Modify Strings](https://www.w3schools.com/python/python_strings_modify.asp)"
   ]
  },
  {
   "cell_type": "code",
   "execution_count": 7,
   "id": "f6910669-1884-4a80-939a-9a478b1c92ae",
   "metadata": {},
   "outputs": [
    {
     "name": "stdout",
     "output_type": "stream",
     "text": [
      "HELLO, WORLD!\n"
     ]
    }
   ],
   "source": [
    "# upper case\n",
    "a = \"Hello, World!\"\n",
    "print(a.upper())"
   ]
  },
  {
   "cell_type": "code",
   "execution_count": 8,
   "id": "4b865ec7-88c3-4408-86f6-251a4fc30346",
   "metadata": {},
   "outputs": [
    {
     "name": "stdout",
     "output_type": "stream",
     "text": [
      "hello, world!\n"
     ]
    }
   ],
   "source": [
    "# lower case\n",
    "a = \"Hello, World!\"\n",
    "print(a.lower())"
   ]
  },
  {
   "cell_type": "code",
   "execution_count": 9,
   "id": "3a308599-d1e4-4be2-ba04-18eb37341ec4",
   "metadata": {},
   "outputs": [
    {
     "name": "stdout",
     "output_type": "stream",
     "text": [
      "Hello, World!\n"
     ]
    }
   ],
   "source": [
    "# Remove Whitespace\n",
    "a = \" Hello, World! \"\n",
    "print(a.strip()) # returns \"Hello, World!\""
   ]
  },
  {
   "cell_type": "code",
   "execution_count": 10,
   "id": "ccb3ec03-8638-41e8-9a87-875308cc4b53",
   "metadata": {},
   "outputs": [
    {
     "name": "stdout",
     "output_type": "stream",
     "text": [
      "Jello, World!\n"
     ]
    }
   ],
   "source": [
    "# Replace String\n",
    "a = \"Hello, World!\"\n",
    "print(a.replace(\"H\", \"J\"))"
   ]
  },
  {
   "cell_type": "code",
   "execution_count": 11,
   "id": "5d9166eb-f69f-4f81-b32a-8ef8651e1aa5",
   "metadata": {},
   "outputs": [
    {
     "name": "stdout",
     "output_type": "stream",
     "text": [
      "['Hello', ' World!']\n"
     ]
    }
   ],
   "source": [
    "# split string\n",
    "a = \"Hello, World!\"\n",
    "print(a.split(\",\")) # returns ['Hello', ' World!']"
   ]
  },
  {
   "cell_type": "markdown",
   "id": "dadbf668-2e7e-4264-967b-c75d1af9cfc5",
   "metadata": {},
   "source": [
    "### String Concatenation\n",
    "\n",
    "> [Python - String Concatenation](https://www.w3schools.com/python/python_strings_concatenate.asp)  "
   ]
  },
  {
   "cell_type": "code",
   "execution_count": 12,
   "id": "6bfb1910-ff7d-42e9-a772-a958691f3c5a",
   "metadata": {},
   "outputs": [
    {
     "name": "stdout",
     "output_type": "stream",
     "text": [
      "HelloWorld\n"
     ]
    }
   ],
   "source": [
    "a = \"Hello\"\n",
    "b = \"World\"\n",
    "c = a + b\n",
    "print(c)"
   ]
  },
  {
   "cell_type": "code",
   "execution_count": 13,
   "id": "9fbeeedb-14d5-4384-ad37-1e0ae1b5f751",
   "metadata": {},
   "outputs": [
    {
     "name": "stdout",
     "output_type": "stream",
     "text": [
      "Hello World\n"
     ]
    }
   ],
   "source": [
    "a = \"Hello\"\n",
    "b = \"World\"\n",
    "c = a + \" \" + b\n",
    "print(c)"
   ]
  },
  {
   "cell_type": "markdown",
   "id": "66d510c3-dd29-4c63-ad75-fe69e45dd2f1",
   "metadata": {},
   "source": [
    "### Format - Strings\n",
    "\n",
    "> [Python - Format - Strings](https://www.w3schools.com/python/python_strings_format.asp)\n",
    "\n",
    "개인적으로 python3 부터 String format 부분은 [f-string](https://blockdmask.tistory.com/429)을 사용하여 하는게 가독성도 좋고 이해하기 좋다.\n",
    "\"\", '' 문자열 앞에 f를 붙여주고 문자열 내에 {} 사이에 변수 이름을 적어주면 된다. ( 인덱싱으로도 표시할 수 있다. )"
   ]
  },
  {
   "cell_type": "code",
   "execution_count": 16,
   "id": "80b3ff5d-ecf9-458a-9072-f9f49d0248bd",
   "metadata": {},
   "outputs": [
    {
     "name": "stdout",
     "output_type": "stream",
     "text": [
      "한국어의 시작은 가, 나, 다 ... , 숫자의 시작은 1, 2, 3 ...\n"
     ]
    }
   ],
   "source": [
    "String1 = \"가\"\n",
    "String2 = \"나\"\n",
    "String3 = \"다\"\n",
    "Int1 = 1\n",
    "Int2 = 2\n",
    "Int3 = 3\n",
    "\n",
    "print(f\"한국어의 시작은 {String1}, {String2}, {String3} ... , 숫자의 시작은 {Int1}, {Int2}, {Int3} ...\")"
   ]
  },
  {
   "cell_type": "markdown",
   "id": "30ca72cc-8083-4020-84f4-64f1ca051b5d",
   "metadata": {},
   "source": [
    "### Escape Characters\n",
    "\n",
    "> [Python - Escape Characters](https://www.w3schools.com/python/python_strings_escape.asp)  \n",
    "\n",
    "Code &nbsp;&nbsp;&nbsp;&nbsp; Result  \n",
    "\\\\' &nbsp;&nbsp;&nbsp;&nbsp; **Single Quote**  \n",
    "\\\\\\ &nbsp;&nbsp;&nbsp;&nbsp; **Backslash**  \n",
    "\\\\n &nbsp;&nbsp;&nbsp;&nbsp; **New Line**  \n",
    "\\\\r &nbsp;&nbsp;&nbsp;&nbsp; **Carriage Return**  \n",
    "\\\\t &nbsp;&nbsp;&nbsp;&nbsp; **Tab**  \n",
    "\\\\b &nbsp;&nbsp;&nbsp;&nbsp; **Backspace**  \n",
    "\\\\f &nbsp;&nbsp;&nbsp;&nbsp; **Form Feed**  \n",
    "\\\\ooo &nbsp;&nbsp;&nbsp;&nbsp; **Octal value**  \n",
    "\\\\xhh &nbsp;&nbsp;&nbsp;&nbsp; **Hex value**"
   ]
  },
  {
   "cell_type": "code",
   "execution_count": 19,
   "id": "01466aea-c233-4487-9de5-8259bf95f1ba",
   "metadata": {},
   "outputs": [
    {
     "name": "stdout",
     "output_type": "stream",
     "text": [
      "We are the so-called \"Vikings\" from the north.\n"
     ]
    }
   ],
   "source": [
    "# \" ' 를 문자열 안에 포함시키는 방법 \n",
    "txt = \"We are the so-called \\\"Vikings\\\" from the north.\"\n",
    "print(txt)"
   ]
  },
  {
   "cell_type": "markdown",
   "id": "cf87ddf0-229c-4a57-af68-b27ba2b1ca07",
   "metadata": {},
   "source": [
    "### String Methods\n",
    "\n",
    "> [Python - String Methods](https://www.w3schools.com/python/python_strings_methods.asp) 내실 다지기 이므로 모든 함수를 실행해본다."
   ]
  },
  {
   "cell_type": "code",
   "execution_count": 23,
   "id": "241d5d53-4dbe-408d-9797-e3d83e5db8bf",
   "metadata": {},
   "outputs": [
    {
     "name": "stdout",
     "output_type": "stream",
     "text": [
      "Hello, and welcome to my world.\n"
     ]
    }
   ],
   "source": [
    "# capitalize() 문자열의 첫 단어를 대문자로 바꾼다.\n",
    "txt = \"hello, and welcome to my world.\"\n",
    "\n",
    "x = txt.capitalize()\n",
    "\n",
    "print (x)"
   ]
  },
  {
   "cell_type": "code",
   "execution_count": 25,
   "id": "3c16ee34-a510-42f4-94ad-80d9908393da",
   "metadata": {},
   "outputs": [
    {
     "name": "stdout",
     "output_type": "stream",
     "text": [
      "hello, and welcome to my world!\n"
     ]
    }
   ],
   "source": [
    "# casefold() 문자열을 소문자로 바꾸어주는 함수인데 lower()보다 더 공격적이다. [예시로 독일어 casefold()는'ß'를\"ss\"로 변환](https://www.delftstack.com/ko/howto/python/case-insensitive-string-comparison-in-python/)\n",
    "txt = \"Hello, And Welcome To My World!\"\n",
    "\n",
    "x = txt.casefold()\n",
    "\n",
    "print(x)"
   ]
  },
  {
   "cell_type": "code",
   "execution_count": 32,
   "id": "d8d8eabd-aa8a-46ee-b0a9-b44cbfedf9a3",
   "metadata": {},
   "outputs": [
    {
     "name": "stdout",
     "output_type": "stream",
     "text": [
      "       banana       \n"
     ]
    }
   ],
   "source": [
    "# center() 문자열의 20칸을 빈칸으로 채우고 중간정렬로 설정한다.\n",
    "\n",
    "txt = \"banana\"\n",
    "\n",
    "x = txt.center(20)\n",
    "\n",
    "print(x)"
   ]
  },
  {
   "cell_type": "code",
   "execution_count": 33,
   "id": "b3b24652-4b2e-4557-b86e-79a4afaf8ec0",
   "metadata": {},
   "outputs": [
    {
     "name": "stdout",
     "output_type": "stream",
     "text": [
      "OOOOOOObananaOOOOOOO\n"
     ]
    }
   ],
   "source": [
    "txt = \"banana\"\n",
    "\n",
    "x = txt.center(20, \"O\")\n",
    "\n",
    "print(x)"
   ]
  },
  {
   "cell_type": "code",
   "execution_count": 37,
   "id": "6c6dce76-ac5b-480b-a047-d68434ab88f6",
   "metadata": {},
   "outputs": [
    {
     "name": "stdout",
     "output_type": "stream",
     "text": [
      "2\n"
     ]
    }
   ],
   "source": [
    "# string.count(value, start, end) 해당 문자열에서 특정 단어가 몇개 있는지 확인할 수 있는 함수\n",
    "txt = \"I love apples, apple are my favorite fruit\"\n",
    "\n",
    "x = txt.count(\"apple\")\n",
    "\n",
    "print(x)"
   ]
  },
  {
   "cell_type": "code",
   "execution_count": 38,
   "id": "b4d67f40-8945-4b3b-b60d-3105dc7679ee",
   "metadata": {},
   "outputs": [
    {
     "name": "stdout",
     "output_type": "stream",
     "text": [
      "1\n"
     ]
    }
   ],
   "source": [
    "txt = \"I love apples, apple are my favorite fruit\"\n",
    "\n",
    "x = txt.count(\"apple\", 10, 24)\n",
    "\n",
    "print(x)"
   ]
  },
  {
   "cell_type": "code",
   "execution_count": 40,
   "id": "825b58d1-08ed-4e39-876e-38297d1cd3bc",
   "metadata": {},
   "outputs": [
    {
     "name": "stdout",
     "output_type": "stream",
     "text": [
      "b'My name is St\\xc3\\xa5le'\n"
     ]
    }
   ],
   "source": [
    "# string.encode(encoding=encoding, errors=errors) Default is UTF-8 문자열을 인코딩 한다.\n",
    "\n",
    "txt = \"My name is Ståle\"\n",
    "\n",
    "x = txt.encode()\n",
    "\n",
    "print(x)"
   ]
  },
  {
   "cell_type": "code",
   "execution_count": 41,
   "id": "336a90fd-8739-4a4c-8a7d-f6b4e25160ff",
   "metadata": {},
   "outputs": [
    {
     "name": "stdout",
     "output_type": "stream",
     "text": [
      "b'My name is St\\\\xe5le'\n",
      "b'My name is Stle'\n",
      "b'My name is St\\\\N{LATIN SMALL LETTER A WITH RING ABOVE}le'\n",
      "b'My name is St?le'\n",
      "b'My name is St&#229;le'\n"
     ]
    }
   ],
   "source": [
    "txt = \"My name is Ståle\"\n",
    "\n",
    "print(txt.encode(encoding=\"ascii\",errors=\"backslashreplace\"))\n",
    "print(txt.encode(encoding=\"ascii\",errors=\"ignore\"))\n",
    "print(txt.encode(encoding=\"ascii\",errors=\"namereplace\"))\n",
    "print(txt.encode(encoding=\"ascii\",errors=\"replace\"))\n",
    "print(txt.encode(encoding=\"ascii\",errors=\"xmlcharrefreplace\"))"
   ]
  },
  {
   "cell_type": "code",
   "execution_count": 43,
   "id": "8821aaf2-2e87-4813-b57e-09db5236bd64",
   "metadata": {},
   "outputs": [
    {
     "name": "stdout",
     "output_type": "stream",
     "text": [
      "True\n"
     ]
    }
   ],
   "source": [
    "# string.endswith(value, start, end)  문자열이 지정된 값으로 끝나면 True를 반환하고 그렇지 않으면 False를 반환합니다.\n",
    "\n",
    "txt = \"Hello, welcome to my world.\"\n",
    "\n",
    "x = txt.endswith(\".\")\n",
    "\n",
    "print(x)"
   ]
  },
  {
   "cell_type": "code",
   "execution_count": 44,
   "id": "3fe6d4bf-48c5-4db9-bd2a-96bbb9bfd44f",
   "metadata": {},
   "outputs": [
    {
     "name": "stdout",
     "output_type": "stream",
     "text": [
      "True\n"
     ]
    }
   ],
   "source": [
    "txt = \"Hello, welcome to my world.\"\n",
    "\n",
    "x = txt.endswith(\"my world.\")\n",
    "\n",
    "print(x)"
   ]
  },
  {
   "cell_type": "code",
   "execution_count": 45,
   "id": "d6b9294e-d04d-45de-a54b-45c6e31448f5",
   "metadata": {},
   "outputs": [
    {
     "name": "stdout",
     "output_type": "stream",
     "text": [
      "False\n"
     ]
    }
   ],
   "source": [
    "txt = \"Hello, welcome to my world.\"\n",
    "\n",
    "x = txt.endswith(\"my world.\", 5, 11)\n",
    "\n",
    "print(x)"
   ]
  },
  {
   "cell_type": "code",
   "execution_count": 50,
   "id": "0549034f-68be-44d7-bd66-dd93d71a0666",
   "metadata": {},
   "outputs": [
    {
     "name": "stdout",
     "output_type": "stream",
     "text": [
      "H e l l o\n"
     ]
    }
   ],
   "source": [
    "# string.expandtabs(tabsize)  탭의 크기를 조절해준다.\n",
    "txt = \"H\\te\\tl\\tl\\to\"\n",
    "\n",
    "x =  txt.expandtabs(2)\n",
    "\n",
    "print(x)"
   ]
  },
  {
   "cell_type": "code",
   "execution_count": 49,
   "id": "abe694a5-7073-46ec-8d6c-90c4d617f1cf",
   "metadata": {},
   "outputs": [
    {
     "name": "stdout",
     "output_type": "stream",
     "text": [
      "H\te\tl\tl\to\n",
      "H       e       l       l       o\n",
      "H e l l o\n",
      "H   e   l   l   o\n",
      "H         e         l         l         o\n"
     ]
    }
   ],
   "source": [
    "txt = \"H\\te\\tl\\tl\\to\"\n",
    "\n",
    "print(txt)\n",
    "print(txt.expandtabs())\n",
    "print(txt.expandtabs(2))\n",
    "print(txt.expandtabs(4))\n",
    "print(txt.expandtabs(10))"
   ]
  },
  {
   "cell_type": "code",
   "execution_count": 62,
   "id": "8fa80cb7-cd8a-4561-8198-ea62b6d5d854",
   "metadata": {},
   "outputs": [
    {
     "name": "stdout",
     "output_type": "stream",
     "text": [
      "7\n"
     ]
    }
   ],
   "source": [
    "# string.find(value, start, end) 특정 문자열이 어디 있는지 확인, 오류시 -1 출력\n",
    "\n",
    "txt = \"Hello, welcome to my world.\"\n",
    "\n",
    "x = txt.find(\"welcome\")\n",
    "\n",
    "print(x)"
   ]
  },
  {
   "cell_type": "code",
   "execution_count": 61,
   "id": "5c8d3feb-bc21-4d01-b9e4-481f2492a900",
   "metadata": {},
   "outputs": [
    {
     "name": "stdout",
     "output_type": "stream",
     "text": [
      "1\n"
     ]
    }
   ],
   "source": [
    "# string.index(value, start, end) 특정 문자열이 어디 있는지 확인, 오류시 에러 출력\n",
    "\n",
    "txt = \"Hello, welcome to my world.\"\n",
    "\n",
    "x = txt.index(\"e\")\n",
    "\n",
    "print(x)"
   ]
  },
  {
   "cell_type": "code",
   "execution_count": 63,
   "id": "726f1051-d005-41fd-8856-32097104caa4",
   "metadata": {},
   "outputs": [
    {
     "name": "stdout",
     "output_type": "stream",
     "text": [
      "-1\n"
     ]
    },
    {
     "ename": "ValueError",
     "evalue": "substring not found",
     "output_type": "error",
     "traceback": [
      "\u001b[1;31m---------------------------------------------------------------------------\u001b[0m",
      "\u001b[1;31mValueError\u001b[0m                                Traceback (most recent call last)",
      "Input \u001b[1;32mIn [63]\u001b[0m, in \u001b[0;36m<cell line: 4>\u001b[1;34m()\u001b[0m\n\u001b[0;32m      1\u001b[0m txt \u001b[38;5;241m=\u001b[39m \u001b[38;5;124m\"\u001b[39m\u001b[38;5;124mHello, welcome to my world.\u001b[39m\u001b[38;5;124m\"\u001b[39m\n\u001b[0;32m      3\u001b[0m \u001b[38;5;28mprint\u001b[39m(txt\u001b[38;5;241m.\u001b[39mfind(\u001b[38;5;124m\"\u001b[39m\u001b[38;5;124mq\u001b[39m\u001b[38;5;124m\"\u001b[39m))\n\u001b[1;32m----> 4\u001b[0m \u001b[38;5;28mprint\u001b[39m(\u001b[43mtxt\u001b[49m\u001b[38;5;241;43m.\u001b[39;49m\u001b[43mindex\u001b[49m\u001b[43m(\u001b[49m\u001b[38;5;124;43m\"\u001b[39;49m\u001b[38;5;124;43mq\u001b[39;49m\u001b[38;5;124;43m\"\u001b[39;49m\u001b[43m)\u001b[49m)\n",
      "\u001b[1;31mValueError\u001b[0m: substring not found"
     ]
    }
   ],
   "source": [
    "txt = \"Hello, welcome to my world.\"\n",
    "\n",
    "print(txt.find(\"q\"))\n",
    "print(txt.index(\"q\"))"
   ]
  },
  {
   "cell_type": "code",
   "execution_count": 64,
   "id": "7dfd4611-b6b2-40eb-bc9d-9739ad783c73",
   "metadata": {},
   "outputs": [],
   "source": [
    "# string.format(value1, value2...) 양이 많으므로 따로 블로그에 추가할 함수"
   ]
  },
  {
   "cell_type": "code",
   "execution_count": 66,
   "id": "590eb307-2972-4e2b-8eef-87751d17d6b5",
   "metadata": {},
   "outputs": [
    {
     "name": "stdout",
     "output_type": "stream",
     "text": [
      "True\n"
     ]
    }
   ],
   "source": [
    "# string.isalnum() 문자열이 숫자와 알파벳으로만 이루어졌는지 확인하는 함수\n",
    "\n",
    "txt = \"Company12\"\n",
    "\n",
    "x = txt.isalnum()\n",
    "\n",
    "print(x)"
   ]
  },
  {
   "cell_type": "code",
   "execution_count": 69,
   "id": "59e85938-5221-4f89-aa7e-0b19de09cba3",
   "metadata": {},
   "outputs": [
    {
     "name": "stdout",
     "output_type": "stream",
     "text": [
      "False\n"
     ]
    }
   ],
   "source": [
    "txt = \"Company 12\" # 빈칸이 들어가 있어서 False\n",
    "\n",
    "x = txt.isalnum()\n",
    "\n",
    "print(x)"
   ]
  },
  {
   "cell_type": "code",
   "execution_count": 71,
   "id": "6d4f1d1c-b9bd-44be-be16-3c607f12e09b",
   "metadata": {},
   "outputs": [
    {
     "name": "stdout",
     "output_type": "stream",
     "text": [
      "True\n"
     ]
    }
   ],
   "source": [
    "# string.isalpha() # 알파벳으로 이루어져있는지 확인\n",
    "\n",
    "txt = \"CompanyX\"\n",
    "\n",
    "x = txt.isalpha()\n",
    "\n",
    "print(x)"
   ]
  },
  {
   "cell_type": "code",
   "execution_count": 73,
   "id": "2d86f910-2b00-44a6-8bc1-2645d85718f2",
   "metadata": {},
   "outputs": [
    {
     "name": "stdout",
     "output_type": "stream",
     "text": [
      "False\n"
     ]
    }
   ],
   "source": [
    "txt = \"Company10\"\n",
    "\n",
    "x = txt.isalpha()\n",
    "\n",
    "print(x)"
   ]
  },
  {
   "cell_type": "code",
   "execution_count": 83,
   "id": "92886e96-aafe-43d6-ab4b-a08a1f324603",
   "metadata": {},
   "outputs": [
    {
     "name": "stdout",
     "output_type": "stream",
     "text": [
      "True\n"
     ]
    }
   ],
   "source": [
    "# string.isdecimal() # 유니코드 문자열에서만 사용되며 모든 문자가 소수(0-9)이면 True를 반환합니다.\n",
    "txt = \"\\u0033\" #unicode for 3\n",
    "\n",
    "x = txt.isdecimal()\n",
    "\n",
    "print(x)"
   ]
  },
  {
   "cell_type": "code",
   "execution_count": 75,
   "id": "c4c9d997-9a86-4f69-bf53-7340d87e8925",
   "metadata": {},
   "outputs": [
    {
     "name": "stdout",
     "output_type": "stream",
     "text": [
      "True\n",
      "False\n"
     ]
    }
   ],
   "source": [
    "a = \"\\u0030\" #unicode for 0\n",
    "b = \"\\u0047\" #unicode for G\n",
    "\n",
    "print(a.isdecimal())\n",
    "print(b.isdecimal())"
   ]
  },
  {
   "cell_type": "code",
   "execution_count": 86,
   "id": "9535e0b6-eb6d-4cb4-85f3-0af99734679c",
   "metadata": {},
   "outputs": [
    {
     "name": "stdout",
     "output_type": "stream",
     "text": [
      "True\n"
     ]
    }
   ],
   "source": [
    "# string.isdigit() # 숫자인지 확인\n",
    "txt = \"50800\"\n",
    "\n",
    "x = txt.isdigit()\n",
    "\n",
    "print(x)"
   ]
  },
  {
   "cell_type": "code",
   "execution_count": 85,
   "id": "04e4a136-a529-4ca3-a9fd-7074b4d7fef4",
   "metadata": {},
   "outputs": [
    {
     "name": "stdout",
     "output_type": "stream",
     "text": [
      "True\n",
      "True\n"
     ]
    }
   ],
   "source": [
    "a = \"\\u0030\" #unicode for 0\n",
    "b = \"\\u00B2\" #unicode for ²\n",
    "\n",
    "print(a.isdigit())\n",
    "print(b.isdigit())"
   ]
  },
  {
   "cell_type": "code",
   "execution_count": 87,
   "id": "31446797-aa01-48e5-acdd-234baa0fe9e7",
   "metadata": {},
   "outputs": [
    {
     "name": "stdout",
     "output_type": "stream",
     "text": [
      "True\n"
     ]
    }
   ],
   "source": [
    "# string.isidentifier() 문자열이 유효한 식별자이면 True를 반환하고 그렇지 않으면 False를 반환\n",
    "# 유효한 식별자 영숫자(az) 및 (0-9) 또는 밑줄(_)만 포함하는 경우 유효한 식별자, 숫자로 시작하거나 공백을 포함할 수 없습니다.\n",
    "\n",
    "txt = \"Demo\"\n",
    "\n",
    "x = txt.isidentifier()\n",
    "\n",
    "print(x)"
   ]
  },
  {
   "cell_type": "code",
   "execution_count": 88,
   "id": "8c2d0d99-4317-4d3d-9592-e3ad8b3c2d01",
   "metadata": {},
   "outputs": [
    {
     "name": "stdout",
     "output_type": "stream",
     "text": [
      "True\n",
      "True\n",
      "False\n",
      "False\n"
     ]
    }
   ],
   "source": [
    "a = \"MyFolder\"\n",
    "b = \"Demo002\"\n",
    "c = \"2bring\"\n",
    "d = \"my demo\"\n",
    "\n",
    "print(a.isidentifier())\n",
    "print(b.isidentifier())\n",
    "print(c.isidentifier())\n",
    "print(d.isidentifier())"
   ]
  },
  {
   "cell_type": "code",
   "execution_count": 89,
   "id": "78113894-c104-4332-b921-c0c069b808c5",
   "metadata": {},
   "outputs": [
    {
     "name": "stdout",
     "output_type": "stream",
     "text": [
      "True\n"
     ]
    }
   ],
   "source": [
    "# string.islower() 알파벳 문자열을 소문자로 바꾸어준다.\n",
    "\n",
    "txt = \"hello world!\"\n",
    "\n",
    "x = txt.islower()\n",
    "\n",
    "print(x)"
   ]
  },
  {
   "cell_type": "code",
   "execution_count": 90,
   "id": "2ceabe3d-e7e0-4bcc-8a9e-2b270751a674",
   "metadata": {},
   "outputs": [
    {
     "name": "stdout",
     "output_type": "stream",
     "text": [
      "False\n",
      "True\n",
      "False\n"
     ]
    }
   ],
   "source": [
    "a = \"Hello world!\"\n",
    "b = \"hello 123\"\n",
    "c = \"mynameisPeter\"\n",
    "\n",
    "print(a.islower())\n",
    "print(b.islower())\n",
    "print(c.islower())"
   ]
  },
  {
   "cell_type": "code",
   "execution_count": 93,
   "id": "e8a938e1-ffe6-43f2-afc6-cc7d7224b6b2",
   "metadata": {},
   "outputs": [
    {
     "name": "stdout",
     "output_type": "stream",
     "text": [
      "True\n"
     ]
    }
   ],
   "source": [
    "# string.isnumeric() 숫자로만 이루어져있는지, 음수 소수도 안된다.\n",
    "txt = \"565543\"\n",
    "\n",
    "x = txt.isnumeric()\n",
    "\n",
    "print(x)"
   ]
  },
  {
   "cell_type": "code",
   "execution_count": 92,
   "id": "afa64ce0-e58b-4759-8a8e-29b7d9030f97",
   "metadata": {},
   "outputs": [
    {
     "name": "stdout",
     "output_type": "stream",
     "text": [
      "True\n",
      "True\n",
      "False\n",
      "False\n",
      "False\n"
     ]
    }
   ],
   "source": [
    "a = \"\\u0030\" #unicode for 0\n",
    "b = \"\\u00B2\" #unicode for &sup2;\n",
    "c = \"10km2\"\n",
    "d = \"-1\"\n",
    "e = \"1.5\"\n",
    "\n",
    "print(a.isnumeric())\n",
    "print(b.isnumeric())\n",
    "print(c.isnumeric())\n",
    "print(d.isnumeric())\n",
    "print(e.isnumeric())"
   ]
  },
  {
   "cell_type": "code",
   "execution_count": null,
   "id": "b5b3a996-9148-43ac-9f29-17b861ce13a9",
   "metadata": {},
   "outputs": [],
   "source": []
  }
 ],
 "metadata": {
  "kernelspec": {
   "display_name": "Python 3 (ipykernel)",
   "language": "python",
   "name": "python3"
  },
  "language_info": {
   "codemirror_mode": {
    "name": "ipython",
    "version": 3
   },
   "file_extension": ".py",
   "mimetype": "text/x-python",
   "name": "python",
   "nbconvert_exporter": "python",
   "pygments_lexer": "ipython3",
   "version": "3.10.4"
  }
 },
 "nbformat": 4,
 "nbformat_minor": 5
}
